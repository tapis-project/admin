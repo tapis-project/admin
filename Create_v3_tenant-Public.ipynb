{
  "cells": [
    {
      "cell_type": "markdown",
      "id": "7c5e2474",
      "metadata": {},
      "source": [
        "# Notebook For Creating a New v3 Tenant"
      ]
    },
    {
      "cell_type": "markdown",
      "id": "5c06fed5",
      "metadata": {},
      "source": [
        "Make sure to add the tenant to the GitLab, or else it will be wiped when the authenticator loads the configs from GitLab (https://gitlab.tacc.utexas.edu/cic/tacc-tapis-deployments)\n",
        "\n",
        "\n",
        "Look for the corresponding tapis{env}_primary.yml and add the tenant to the list of authenticator and token tenants "
      ]
    },
    {
      "cell_type": "code",
      "execution_count": null,
      "id": "31a21e48",
      "metadata": {},
      "outputs": [],
      "source": [
        "pip install tapipy"
      ]
    },
    {
      "cell_type": "code",
      "execution_count": 2,
      "id": "c0193a5c",
      "metadata": {},
      "outputs": [],
      "source": [
        "import requests\n",
        "# Set the base_url to the admin tenant of the instance in which you would like to create the tenant.\n",
        "# Additionally, supply a JWT representing the Tenants API.\n",
        "\n",
        "# Example:\n",
        "# base_url = 'https://admin.tapis.io'\n",
        "# jwt = 'eyJ0e...'\n",
        "\n",
        "base_url = ''\n",
        "jwt = ''"
      ]
    },
    {
      "cell_type": "code",
      "execution_count": null,
      "id": "05e417b2",
      "metadata": {},
      "outputs": [],
      "source": [
        "# create a tapipy client representing the tenants service -\n",
        "from tapipy.tapis import Tapis\n",
        "t = Tapis(base_url=base_url, access_token=jwt, is_tapis_service=True, tenant_id='admin')\n",
        "\n",
        "# check access - \n",
        "headers = {'X-Tapis-Token': jwt, 'X-Tapis-Tenant': 'admin', 'X-Tapis-User': 'tenants'}\n",
        "#t.tenants.list_tenants(headers=headers)\n",
        "t.tenants.get_tenant(tenant_id='admin', headers=headers)"
      ]
    },
    {
      "cell_type": "markdown",
      "id": "05e417b2",
      "metadata": {
        "id": "05e417b2"
      },
      "source": [
        "## Owner Objects\n",
        "Each tenant needs an owner object. The owner is an email address that is responsible for the tenant. For many tenants, the owner is \"CICSupport@tacc.utexas.edu\" but ideally the owner would be the contact of the person \n",
        "who can respond to high-level questions and issues with their tenant; e.g., security incidents and questions like who should be tenant admin?  "
      ]
    },
    {
      "cell_type": "code",
      "execution_count": null,
      "id": "c2ead450",
      "metadata": {
        "id": "c2ead450"
      },
      "outputs": [],
      "source": [
        "# Add a new owner object if you need to ---\n",
        "#\n",
        "# Example:\n",
        "# owner = {\n",
        "#     \"name\": \"Joe Stubbs\",\n",
        "#     \"email\": \"jstubbs@tacc.utexas.edu\",\n",
        "#     \"institution\": \"University of Texas, Austin\"\n",
        "# }\n",
        "owner = \n",
        "\n",
        "# Create the owner object\n",
        "url = f'{base_url}/v3/tenants/owners'\n",
        "rsp = requests.post(url, headers=headers, json=owner)\n",
        "try:\n",
        "    rsp.raise_for_status()\n",
        "    print(\"200 response.\")\n",
        "    print(rsp.json())\n",
        "except:\n",
        "    print(\"Request resulted in a non-200 code. See response below:\")\n",
        "    print(rsp.json())"
      ]
    },
    {
      "cell_type": "markdown",
      "id": "21cd4410",
      "metadata": {
        "id": "21cd4410"
      },
      "source": [
        "## LDAP Objects\n",
        "The ldap object determines who can authenticate in the tenant. The object definition includes both the server \n",
        "and credentials AS WELL AS the user dn. Tenants that have different LDAP OUs will need to have their\n",
        "own LDAP object defined even if it is the same LDAP server. On the other hand, tenants that use the same ou\n",
        "should be able to use the same LDAP object. \n",
        "\n",
        "**Special note:** The \"dev\" ldap should be able to use the same ldap config object because the host is the same (authenticator-ldap) regardless of what k8s cluster the ldap pod is running it; the authenticator pod running in the same cluster will use the kube dns to resolve \"authenticator-ldap\" to the ldap pod in the same k8s cluster.\n",
        "\n",
        "When creating a new ldap object, be aware that the username attribute used when querying the ldap db should be baked\n",
        "into the user_dn attribute using the `<username_attr>=${username}` syntax. The `${username}` token will be replaced by authenticator at run time. authenticator uses a default of `cn` for the username attribute if the `${username}`token is not present in the user_dn. In summary:\n",
        "\n",
        "  * if `user_dn` contains the string `${username}`, authenticator will replace this with the actual username.\n",
        "  * if `user_dn` does not contain `${username}`, authenticator will use `cn=<username>`, prepended to the user_dn.\n",
        "\n",
        "**Credential Note**\n",
        "When creating a new ldap object, you will also need to store a new credential with SK, unless an existing credential can be used (for example, the same credential can be used to bind to tacc ldap). The new credential needs to be \n",
        "owned by the authenticator. Use the `store_ldap_bind_secret_in_sk()` function within the authentictor (the __init__.py file) to save the credential.\n",
        "\n",
        "It should be noted that the authentication can be customized for a given tenant using a custom_ldap_config\n",
        "object, defined within the authenticator database itself. These customization options include:\n",
        "\n",
        " * user_search_filter\n",
        " * user_search_prefix\n",
        " * user_search_supplemental_filter\n",
        "\n",
        "If user_search_filter is used, it is used exclusively, while user_search_prefix and user_search_supplemental_filter \n",
        "can be used together.\n"
      ]
    },
    {
      "cell_type": "code",
      "execution_count": null,
      "id": "278868d1",
      "metadata": {
        "id": "278868d1"
      },
      "outputs": [],
      "source": [
        "# create a new ldap object, if needed.\n",
        "\n",
        "# The id for the ldap; must be unique in the tapis primary site.\n",
        "# Examples:\n",
        "# ldap_id = \"tapis-vdj\" \n",
        "# ldap_id = \"tapis-irec\"\n",
        "ldap_id =\n",
        "\n",
        "# The url to the ldap, not including the port\n",
        "# Examples:\n",
        "# ldap_url = \"ldaps://agaveldap.tacc.utexas.edu\" (remote URL)\n",
        "# \"ldap://authenticator-ldap\" (local to k8s)\n",
        "ldap_url = \n",
        "\n",
        "# the port, as an int\n",
        "# Examples:\n",
        "#ldap_port = 636\n",
        "#ldap_port = 389\n",
        "ldap_port =\n",
        "\n",
        "# whether the ldap server uses encryption\n",
        "# Examples:\n",
        "#use_ssl = True    \n",
        "#use_ssl = False\n",
        "use_ssl = \n",
        "\n",
        "# The account to use to bind to the ldap\n",
        "# Examples:\n",
        "# bind_dn = \"cn=someuser,dc=someorg\"\n",
        "bind_dn = \n",
        "\n",
        "# The name of the secret in SK that contains the bind password. \n",
        "# NOTE: you will need to actually create this credential in SK! \n",
        "# to do that, exec into the authenticator pod and use the store_ldap_bind_secret_in_sk() function; e.g., \n",
        "# \n",
        "# from service import store_ldap_bind_secret_in_sk\n",
        "# store_ldap_bind_secret_in_sk(ldap_connection_id=, password=, tenant=, user='authenticator')\n",
        "\n",
        "# Examples:\n",
        "# bind_credential = \"ldap.tapis-v2\"    \n",
        "# bind_credential = \"ldap.tapis-dev\"\n",
        "bind_credential = \n",
        "\n",
        "# the base DN in the ldap to find the user accounts that will be allowed to bind. there are two possible\n",
        "# user_dn types: ones that include the user_search_prefix and ones that do not. to include the user_search_prefix, \n",
        "# the user_dn will have the form <user_search_prefix>=${username},..\n",
        "# user_dn = \"uid=${username},ou=tenantvdjserver-org,o=agaveapi\" #\"ou=tenants.training,dc=tapis\"\n",
        "\n",
        "# Exanples:\n",
        "# user_dn = \"uid=${username},ou=tenantirec,o=tapis\" \n",
        "# user_nd = \"ou=tenants.training,dc=tapis\"\n",
        "user_dn = \n",
        "\n",
        "# create the actual LDP object from the parts ---\n",
        "ldap = {\"ldap_id\": ldap_id, \n",
        "        \"url\": ldap_url, \n",
        "        \"port\": ldap_port, \n",
        "        \"use_ssl\": use_ssl, \n",
        "        \"user_dn\": user_dn, \n",
        "        \"bind_dn\": bind_dn, \n",
        "        \"bind_credential\": bind_credential, \n",
        "        \"account_type\": \"user\"}\n",
        "\n",
        "url = f'{base_url}/v3/tenants/ldaps'\n",
        "rsp = requests.post(url, headers=headers, json=ldap)\n",
        "try:\n",
        "    rsp.raise_for_status()\n",
        "    print(\"200 response.\")\n",
        "    print(rsp.json())\n",
        "except:\n",
        "    print(\"Request resulted in a non-200 code. See response below:\")\n",
        "    print(rsp.json())"
      ]
    },
    {
      "cell_type": "code",
      "execution_count": null,
      "id": "e21a3648",
      "metadata": {
        "id": "e21a3648"
      },
      "outputs": [],
      "source": [
        "# NOTE/REMINDER: you will need to actually create this credential in SK! \n",
        "# to do that, exec into the authenticator pod and use the store_ldap_bind_secret_in_sk() function; e.g., \n",
        "# \n",
        "# from service import store_ldap_bind_secret_in_sk\n",
        "# store_ldap_bind_secret_in_sk(ldap_connection_id=', password=, tenant=, user=)\n"
      ]
    },
    {
      "cell_type": "markdown",
      "id": "d50c9535",
      "metadata": {
        "id": "d50c9535"
      },
      "source": [
        "## Modifiable Fields for Each Tenant\n",
        "Update the following fields as needed for the tenant you are trying to create - "
      ]
    },
    {
      "cell_type": "code",
      "execution_count": 4,
      "id": "6ca18a33",
      "metadata": {
        "id": "6ca18a33"
      },
      "outputs": [],
      "source": [
        "# The actual tenant_id; TODO - you must update the tenant_id field:\n",
        "# In general, tenant_id's should only contain alpha-numeric characters (i.e., a, .., Z and 0,..,9)\n",
        "# Some services will not work if the tenant id containers '-' or other non-alpha-numeric characters.\n",
        "\n",
        "# Examples:\n",
        "# tenant_id = 'icicle'\n",
        "# tenant_id = 'vdjserver'\n",
        "tenant_id = ''\n",
        "\n",
        "# Update with your environment\n",
        "# Examples:\n",
        "# tenant_base_url = f'https://{tenant_id}.tapis.io'\n",
        "# tenant_base_url = f'https://{tenant_id}.develop.tapis.io'\n",
        "tenant_base_url = ''\n",
        "\n",
        "# These fields get derived from the the tenant id but you can override them if needed --\n",
        "tokens_url = f'{tenant_base_url}/v3/tokens'\n",
        "sk_url = f'{tenant_base_url}/v3/security'\n",
        "authn_url = f'{tenant_base_url}/v3/oauth2'\n",
        "\n",
        "# These fields can change tend to not change for a particular site, but they should be reviewed:\n",
        "# Examples:\n",
        "# tenant_site_id = 'tacc'\n",
        "# admin_user = \"admin\"\n",
        "# token_gen_services = [\"abaco\", \"authenticator\"]\n",
        "# status = \"draft\"\n",
        "\n",
        "\n",
        "tenant_site_id =  # the site owning the tenant\n",
        "admin_user = # the admin user for the tenant\n",
        "token_gen_services = # a list of Tapis service that can generate user tokens with the Tokens API\n",
        "                     # this is only used initially to populate a role in SK.\n",
        "status = \"draft\" # Tenants should almost always be started in \"draft\" mode because they are created with a \n",
        "                 # 'dummy' signing key which is not secure. It is updated in a subsequent step (see below)\n",
        "\n",
        "\n",
        "# The owner is case-sensitive and must already exist. (See section above)\n",
        "# Examples:\n",
        "# owner = 'jstubbs@utsouthwestern.edu' #     \n",
        "# owner = 'CICSupport@tacc.utexas.edu' \n",
        "owner = ''\n",
        "\n",
        "# Add the description of the tenant here:\n",
        "# Examples:\n",
        "# description = 'The Tapis tenant for the iReceptor project.'\n",
        "# description = 'The Tapis tenant for the Desgnsafe-CI project.'\n",
        "# description = 'The Tapis tenant for the 3dem project.'\n",
        "# description = 'The Tapis tenant for the CyVerse project.'\n",
        "description = ''\n",
        "\n",
        "# You must set the user_ldap_connection (or set it to None)\n",
        "# Examples:\n",
        "#user_ldap_connection_id = 'tapis-dev'\n",
        "#user_ldap_connection_id = 'tacc-all'\n",
        "user_ldap_connection_id = ''"
      ]
    },
    {
      "cell_type": "code",
      "execution_count": null,
      "id": "feb51454",
      "metadata": {
        "id": "feb51454"
      },
      "outputs": [],
      "source": [
        "# Validation of tenant description. Run this cell and check for error messages ----\n",
        "\n",
        "if not tenant_id:\n",
        "    print(\"You forgot to set the tenant_id.\")\n",
        "elif not description:\n",
        "    print(\"You forgot to set the description\")\n",
        "elif user_ldap_connection_id == 'not_set':\n",
        "    print(\"You forgot to set a user_ldap_connection\")\n",
        "else:\n",
        "    print(\"Checks passed, here's the tenant you are about to create:\")\n",
        "\n",
        "    # create the tenant object\n",
        "    tenant = {\n",
        "        \"tenant_id\": tenant_id,\n",
        "        \"base_url\": tenant_base_url,\n",
        "        \"token_service\": tokens_url,\n",
        "        \"security_kernel\": sk_url,\n",
        "        \"authenticator\": authn_url,\n",
        "        \"description\": description,\n",
        "        \"owner\": owner,\n",
        "        \"site_id\": tenant_site_id,\n",
        "        \"token_gen_services\": token_gen_services,\n",
        "        \"admin_user\": admin_user,\n",
        "        \"status\": status,\n",
        "        \"user_ldap_connection_id\": user_ldap_connection_id,\n",
        "    }\n",
        "    print(tenant)"
      ]
    },
    {
      "cell_type": "code",
      "execution_count": null,
      "id": "1edbe620",
      "metadata": {
        "id": "1edbe620"
      },
      "outputs": [],
      "source": [
        "# Create the tenant object --\n",
        "\n",
        "# *** NOTE *** Executing this cell will create the tenant object!!!\n",
        "\n",
        "\n",
        "url = f'{base_url}/v3/tenants'\n",
        "rsp = requests.post(url, headers=headers, json=tenant)\n",
        "try:\n",
        "    rsp.raise_for_status()\n",
        "    print(\"200 response.\")\n",
        "    print(rsp.json())\n",
        "except:\n",
        "    print(\"Request resulted in a non-200 code. See response below:\")\n",
        "    print(rsp.json())"
      ]
    },
    {
      "cell_type": "markdown",
      "id": "927713d6",
      "metadata": {
        "id": "927713d6"
      },
      "source": [
        "## Adding a New Signing Key to the DRAFT Tenant\n",
        "\n",
        "The above section put the tenant in DRAFT status. Before updating the tenant to ACTIVE, we need to create a new signing public/private key pair. To do this, we need to act as the Tokens API."
      ]
    },
    {
      "cell_type": "code",
      "execution_count": null,
      "id": "eb07e540",
      "metadata": {
        "id": "eb07e540"
      },
      "outputs": [],
      "source": [
        "# We require a service JWT representing the Tokens API at the primary site.\n",
        "# to get one, exec into the token container and run the followiing python\n",
        "# # # from service.auth import t\n",
        "# # # t.service_tokens['admin']['access_token'].access_token\n",
        "\n",
        "# Example:\n",
        "# tokens_jwt = 'eyJ0eX...'\n",
        "\n",
        "tokens_jwt = ''\n",
        "\n",
        "# ------------------------------------------\n",
        "\n",
        "# check access with the tokens jwt -\n",
        "url = f'{base_url}/v3/tenants/{tenant_id}'\n",
        "tokens_headers = {'X-Tapis-Token': tokens_jwt, 'X-Tapis-Tenant': 'admin', 'X-Tapis-User': 'tokens'}\n",
        "rsp = requests.get(url, headers=tokens_headers)\n",
        "try:\n",
        "    rsp.raise_for_status()\n",
        "    print(\"200 response.\")\n",
        "    print(rsp.json())\n",
        "except:\n",
        "    print(\"Request resulted in a non-200 code. See response below:\")\n",
        "    print(rsp.json())"
      ]
    },
    {
      "cell_type": "code",
      "execution_count": null,
      "id": "c40896ec",
      "metadata": {
        "id": "c40896ec",
        "scrolled": true
      },
      "outputs": [],
      "source": [
        "# Update the signing key in SK and tenant using the PUT /v3/tokens/keys endpoint\n",
        "data = {'tenant_id': tenant_id}\n",
        "url = f'{base_url}/v3/tokens/keys'\n",
        "try:\n",
        "    rsp = requests.put(url, headers=tokens_headers, json=data)\n",
        "except Exception as e:\n",
        "    print(f\"Got error; response: {e.response.content}\")\n",
        "\n",
        "# If you see an \"Unrecognized exception type: <class 'AttributeError'>. Exception: 'str' object has no attribute 'tenant_id'\" message, your request probably still succeeded.\n",
        "# To double check, look for a message saying \"tenant {tenant_id} has been updated with the new public key\" in the tokens logs\n",
        "print(rsp.json())"
      ]
    },
    {
      "cell_type": "markdown",
      "id": "154e84bb",
      "metadata": {
        "id": "154e84bb"
      },
      "source": [
        "## Update Tenant Status to ACTIVE\n",
        "\n",
        "Once a tenant has been created and its signing key generated, we update the status to ACTIVE. We use the tenants serice to do this step."
      ]
    },
    {
      "cell_type": "code",
      "execution_count": null,
      "id": "b12c0866",
      "metadata": {
        "id": "b12c0866"
      },
      "outputs": [],
      "source": [
        "url = f'{base_url}/v3/tenants/{tenant_id}'\n",
        "headers = {'X-Tapis-Token': jwt, 'X-Tapis-Tenant': 'admin', 'X-Tapis-User': 'tenants'}\n",
        "data = {'status': 'active'}\n",
        "rsp = requests.put(url, headers=headers, json=data)\n",
        "print(rsp.json())"
      ]
    },
    {
      "cell_type": "markdown",
      "id": "f772b1f1",
      "metadata": {
        "id": "f772b1f1"
      },
      "source": [
        "## NOTE: At this point, you still must do the following steps to ensure the tenant is recognized by all services:\n",
        "- Update the authenticator and tokens config to include the new tenant id.\n",
        "  - k apply -f {service}-config.yml\n",
        "- restart SK, then Tenants, then Tokens (in that order), and be sure to use burndown/up for SK (don't just delete the pod).\n",
        "  - Use command: k delete pod <pod> for Tenants and Tokens\n",
        "- Restart the remaining services, including Authenticator"
      ]
    },
    {
      "cell_type": "markdown",
      "id": "c9a12d25",
      "metadata": {
        "id": "c9a12d25"
      },
      "source": [
        "# Update a Tenant to ACTIVE with a Public Key\n",
        "\n",
        "## NOTE: Only needed when creating a new admin tenant at an associate site\n",
        "When creating a new admin tenant at an associate site, there is a step where we must manually update the public key at the primary site for the admin tenant.\n",
        "\n",
        "*NOTE:* Currently, you must restart the Tenants API after changing the public key because the other Tenants API threads do not know the public key has been changed/set."
      ]
    },
    {
      "cell_type": "code",
      "execution_count": null,
      "id": "93ddac0e",
      "metadata": {
        "id": "93ddac0e"
      },
      "outputs": [],
      "source": [
        "# Need to specify the tenant id and the public key provided by the associate site.\n",
        "\n",
        "# Examples\n",
        "#tenant_id = 'assocadm'\n",
        "#public_key = '-----BEGIN PUBLIC KEY-----\\nMIIBIjANBgkqhkiG9w0BAQEFAAOCAQ8AMIIBCgKCAQEApuzvlT17OKRWqcEgJ8W8TSIbIWqN5o7M7BYPywJ1X6sbyyiJiNBXzyCswVON5sDrJRuH+18lqD2vM5Q2ajsgYHnxo/0rgSqKuRfhOX9G6oeV9bf4MRpzQnL7rFIZ/bUZjUvd+qBmNm9jgKI0w1LCw3dTCyz69f3OB68KsZeuiDATVjWz32oeasbVw0HtFOIyUoPAYRdBw/OJdFv/DhMkAGgJSl1+f5GhAVhGNhX0xJwjwF1AbJujQwWDx8eAakcefFnm85tHPn2TLkryXnL9vyaArRWye2vng0Dqt8GVqpx7RPBYSk+w4DQINpa2KswNS9tOqQgRfAMiqcLlakcZQQIDAQAB\\n-----END PUBLIC KEY-----'\n",
        "\n",
        "tenant_id = \n",
        "public_key = \n",
        "\n",
        "url = f'{base_url}/v3/tenants/{tenant_id}'\n",
        "headers = {'X-Tapis-Token': jwt, 'X-Tapis-Tenant': 'admin', 'X-Tapis-User': 'tenants'}\n",
        "\n",
        "data = {'status': 'active', 'public_key': public_key}\n",
        "if not public_key:\n",
        "    print(\"error - you must fill in the public key\")\n",
        "else:\n",
        "    rsp = requests.put(url, headers=headers, json=data)\n",
        "    print(rsp.json())\n",
        "    \n",
        "# Use these lines to change other attributes of the tenants....    \n",
        "# data = {'user_ldap_connection_id': \"tapis-dev\"}\n",
        "# rsp = requests.put(url, headers=headers, json=data)\n",
        "# print(rsp.json())\n",
        "\n"
      ]
    },
    {
      "cell_type": "code",
      "execution_count": null,
      "id": "4b19a338",
      "metadata": {
        "id": "4b19a338"
      },
      "outputs": [],
      "source": []
    }
  ],
  "metadata": {
    "colab": {
      "provenance": []
    },
    "kernelspec": {
      "display_name": "Python 3 (ipykernel)",
      "language": "python",
      "name": "python3"
    },
    "language_info": {
      "codemirror_mode": {
        "name": "ipython",
        "version": 3
      },
      "file_extension": ".py",
      "mimetype": "text/x-python",
      "name": "python",
      "nbconvert_exporter": "python",
      "pygments_lexer": "ipython3",
      "version": "3.8.12"
    }
  },
  "nbformat": 4,
  "nbformat_minor": 5
}
