{
 "cells": [
  {
   "cell_type": "markdown",
   "id": "40c8faad",
   "metadata": {},
   "source": [
    "# Notebook for Updating the Service Accounts in the Token Generator Role\n",
    "\n",
    "When creating a new tenant, a list of services is provided for the `token_gen_services` attribute. This attribute\n",
    "takes value which is a list of strings, where each string is the name of a service allowed to create tokens\n",
    "on behalf of end users.\n",
    "\n",
    "Some times, administrators may need to modify the list of such services. This notebook provides scripts which\n",
    "can be used to do that."
   ]
  },
  {
   "cell_type": "code",
   "execution_count": null,
   "id": "2e399857",
   "metadata": {},
   "outputs": [],
   "source": [
    "pip install tapipy\n"
   ]
  },
  {
   "cell_type": "code",
   "execution_count": null,
   "id": "9294d794",
   "metadata": {},
   "outputs": [],
   "source": [
    "from tapipy.tapis import Tapis\n",
    "\n",
    "import requests\n",
    "# Set the base_url to the admin tenant of the instance in which you would like to create the tenant.\n",
    "base_url = ''\n",
    "# Example:\n",
    "# base_url = 'https://admin.develop.tapis.io'\n",
    "\n",
    "# Set the id of the admin tenant for your site:\n",
    "tenant_id = ''\n",
    "\n",
    "# Example:\n",
    "# tenant_id = \"admin\""
   ]
  },
  {
   "cell_type": "code",
   "execution_count": null,
   "id": "76f8e017",
   "metadata": {},
   "outputs": [],
   "source": [
    "# We require a service JWT representing the Tokens API at the primary site.\n",
    "# to get one, exec into the token container and run the followiing python\n",
    "# # # from service.auth import t\n",
    "# # # t.service_tokens['admin']['access_token'].access_token\n",
    "\n",
    "# Example:\n",
    "# tokens_jwt = 'eyJ0eX...'\n",
    "\n",
    "tokens_jwt = ''\n",
    "\n",
    "# ------------------------------------------\n",
    "\n",
    "# create a tapipy client representing the tokens service -\n",
    "from tapipy.tapis import Tapis\n",
    "t = Tapis(base_url=base_url, access_token=tokens_jwt, is_tapis_service=True, tenant_id=tenant_id)\n",
    "headers = {'X-Tapis-Token': tokens_jwt, 'X-Tapis-Tenant': tenant_id, 'X-Tapis-User': 'tokens'}\n",
    "\n",
    "# check access with the tokens jwt -\n",
    "t.tenants.get_tenant(tenant_id=tenant_id, headers=headers)\n",
    "rsp.status"
   ]
  },
  {
   "cell_type": "markdown",
   "id": "d17ee922",
   "metadata": {},
   "source": [
    "## List the Token Generators for a Tenant\n",
    "\n",
    "Token generators are authorized to generate tokens for specific user tenants.\n",
    "First, we'll list which services can currently generate tokens for a user tenant."
   ]
  },
  {
   "cell_type": "code",
   "execution_count": null,
   "id": "6e947694",
   "metadata": {},
   "outputs": [],
   "source": [
    "# The user tenant to list token generators in\n",
    "user_tenant = ''\n",
    "\n",
    "# Example:\n",
    "# user_tenant = 'dev'\n",
    "\n",
    "token_generator_role = f\"{user_tenant}_token_generator\"\n",
    "t.sk.getUsersWithRole(roleName=token_generator_role, tenant=tenant_id, headers=headers)"
   ]
  },
  {
   "cell_type": "markdown",
   "id": "d052681f",
   "metadata": {},
   "source": [
    "## Add New Token Generators for a Tenant\n",
    "\n",
    "We can add new service names to the token generator role to allow them to \n",
    "generate tokens on behalf of users."
   ]
  },
  {
   "cell_type": "code",
   "execution_count": null,
   "id": "b87e17aa",
   "metadata": {},
   "outputs": [],
   "source": [
    "# The user tenant to list token generators in\n",
    "user_tenant = ''\n",
    "\n",
    "# Example:\n",
    "# user_tenant = 'dev'\n",
    "\n",
    "# The service account to grant the token generator role to:\n",
    "token_generator_service = ''\n",
    "\n",
    "# Example:\n",
    "# token_generator_service = 'authenticator2'\n",
    "\n",
    "token_generator_role = f\"{user_tenant}_token_generator\"\n",
    "t.sk.grantRole(roleName=token_generator_role, tenant=tenant_id, user=token_generator_service headers=headers)"
   ]
  },
  {
   "cell_type": "markdown",
   "id": "a9ce08a6",
   "metadata": {},
   "source": [
    "At this point, you should probably run the `getUsersWithRole` function in the previous section to \n",
    "confirm that the account was added."
   ]
  },
  {
   "cell_type": "markdown",
   "id": "9b9510d4",
   "metadata": {},
   "source": [
    "## Remove Services from the Token Generator Role\n",
    "\n",
    "We can also remove services from the list of token generators."
   ]
  },
  {
   "cell_type": "code",
   "execution_count": null,
   "id": "fd629abb",
   "metadata": {},
   "outputs": [],
   "source": [
    "# The user tenant to list token generators in\n",
    "user_tenant = ''\n",
    "\n",
    "# Example:\n",
    "# user_tenant = 'dev'\n",
    "\n",
    "# The service account to remove the token generator role from:\n",
    "service_to_remove = ''\n",
    "\n",
    "# Example:\n",
    "# service_to_remove = 'authenticator2'\n",
    "\n",
    "token_generator_role = f\"{user_tenant}_token_generator\"\n",
    "t.sk.revokeUserRole(roleName=token_generator_role, tenant=tenant_id, user=service_to_remove, headers=headers)"
   ]
  },
  {
   "cell_type": "markdown",
   "id": "7a1c7d3d",
   "metadata": {},
   "source": [
    "At this point, you should probably run the `getUsersWithRole` function in the previous section to \n",
    "confirm that the account was removed."
   ]
  },
  {
   "cell_type": "code",
   "execution_count": null,
   "id": "e5c566be",
   "metadata": {},
   "outputs": [],
   "source": []
  }
 ],
 "metadata": {
  "kernelspec": {
   "display_name": "Python 3 (ipykernel)",
   "language": "python",
   "name": "python3"
  },
  "language_info": {
   "codemirror_mode": {
    "name": "ipython",
    "version": 3
   },
   "file_extension": ".py",
   "mimetype": "text/x-python",
   "name": "python",
   "nbconvert_exporter": "python",
   "pygments_lexer": "ipython3",
   "version": "3.8.2"
  }
 },
 "nbformat": 4,
 "nbformat_minor": 5
}
